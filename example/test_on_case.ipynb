{
 "cells": [
  {
   "cell_type": "code",
   "execution_count": 2,
   "metadata": {},
   "outputs": [],
   "source": [
    "import os\n",
    "# os.environ[\"CUDA_DEVICE_ORDER\"]=\"PCI_BUS_ID\"   \n",
    "os.environ[\"CUDA_VISIBLE_DEVICES\"] = \"0\"\n",
    "import sys \n",
    "sys.path.append(\"..\")\n",
    "import keras.backend as K\n",
    "from lib.config import *\n",
    "from lib.dataset import *\n",
    "from lib.utils import *\n",
    "import numpy as np\n",
    "from PIL import Image\n",
    "import imageio\n",
    "from skimage.measure import compare_ssim\n",
    "from sklearn.metrics import mean_squared_error\n",
    "import warnings\n",
    "warnings.filterwarnings(\"ignore\")"
   ]
  },
  {
   "cell_type": "code",
   "execution_count": 6,
   "metadata": {},
   "outputs": [
    {
     "name": "stdout",
     "output_type": "stream",
     "text": [
      "(1, 5, 60, 60, 1)\n",
      "(1, 10, 60, 60, 1)\n"
     ]
    }
   ],
   "source": [
    "true_imgs_path = './true_imgs/'\n",
    "pred_imgs_path = './pred_imgs/'\n",
    "\n",
    "output_frames = 10\n",
    "input_frames = 5\n",
    "\n",
    "true_imgs_file = os.listdir(true_imgs_path)\n",
    "true_imgs_file.sort()\n",
    "\n",
    "basic_seq = []\n",
    "next_seq = []\n",
    "for i in range(input_frames):\n",
    "    basic_data = image_initialize(true_imgs_path+true_imgs_file[i], HEIGHT, IMG_CHNS)\n",
    "    basic_seq.append(basic_data)\n",
    "for i in range(input_frames,input_frames+output_frames):\n",
    "    next_data = image_initialize(true_imgs_path+true_imgs_file[i], HEIGHT, IMG_CHNS)\n",
    "    next_seq.append(next_data)\n",
    "\n",
    "val_basic = np.expand_dims(np.array(basic_seq),0)\n",
    "val_next = np.expand_dims(np.array(next_seq),0)\n",
    "    \n",
    "print(val_basic.shape)\n",
    "print(val_next.shape)"
   ]
  },
  {
   "cell_type": "code",
   "execution_count": 5,
   "metadata": {},
   "outputs": [
    {
     "name": "stdout",
     "output_type": "stream",
     "text": [
      "frame: 1\n",
      "mse: 0.00043991662\n",
      "ssim: 0.8921240929500551\n",
      "frame: 2\n",
      "mse: 0.00060024124\n",
      "ssim: 0.8726328824992509\n",
      "frame: 3\n",
      "mse: 0.00062221807\n",
      "ssim: 0.8555467544018025\n",
      "frame: 4\n",
      "mse: 0.00054342824\n",
      "ssim: 0.8678783021762372\n",
      "frame: 5\n",
      "mse: 0.000656128\n",
      "ssim: 0.8426320950974998\n",
      "frame: 6\n",
      "mse: 0.0007971693\n",
      "ssim: 0.8302440639697465\n",
      "frame: 7\n",
      "mse: 0.0007943871\n",
      "ssim: 0.8228952120150493\n",
      "frame: 8\n",
      "mse: 0.00076813693\n",
      "ssim: 0.7890682838361911\n",
      "frame: 9\n",
      "mse: 0.0009067914\n",
      "ssim: 0.8053655069670855\n",
      "frame: 10\n",
      "mse: 0.0008047313\n",
      "ssim: 0.8059594959721054\n"
     ]
    }
   ],
   "source": [
    "model_no = [80,93,54,96,9,48,59,49,97,98]\n",
    "\n",
    "for k in range(output_frames):\n",
    "    frame = k+1\n",
    "    print('frame:', frame)\n",
    "    model_path = '../models/'+str(input_frames)+'-'+str(frame)+str(model_no[k])+'h5'\n",
    "    \n",
    "    K.clear_session()\n",
    "    model = init_model(input_frames)\n",
    "    model.load_weights(model_path, by_name=True)\n",
    "    gen_imgs = model.predict(val_basic[0:1])\n",
    "\n",
    "    true_sum = np.sum(val_next[0, k, :, :, 0])\n",
    "    pred_sum = np.sum(gen_imgs[0, :, :, 0])\n",
    "    ssim = compare_ssim(val_next[0, k, :, :, 0], gen_imgs[0, :, :, 0], data_range=1)\n",
    "    mse = mean_squared_error(val_next[0, k, :, :, 0], gen_imgs[0, :, :, 0])\n",
    "    print('mse:', mse)\n",
    "    print('ssim:', ssim)\n",
    "    \n",
    "    imageio.imwrite(pred_imgs_path+str(frame)+'.jpg', np.uint8(gen_imgs[0]*255))"
   ]
  },
  {
   "cell_type": "code",
   "execution_count": null,
   "metadata": {},
   "outputs": [],
   "source": []
  },
  {
   "cell_type": "code",
   "execution_count": null,
   "metadata": {},
   "outputs": [],
   "source": []
  }
 ],
 "metadata": {
  "kernelspec": {
   "display_name": "Python 3",
   "language": "python",
   "name": "python3"
  },
  "language_info": {
   "codemirror_mode": {
    "name": "ipython",
    "version": 3
   },
   "file_extension": ".py",
   "mimetype": "text/x-python",
   "name": "python",
   "nbconvert_exporter": "python",
   "pygments_lexer": "ipython3",
   "version": "3.6.10"
  }
 },
 "nbformat": 4,
 "nbformat_minor": 4
}
